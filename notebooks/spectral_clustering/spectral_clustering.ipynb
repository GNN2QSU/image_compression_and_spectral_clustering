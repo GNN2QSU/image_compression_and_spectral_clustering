{
 "cells": [
  {
   "cell_type": "code",
   "execution_count": 1,
   "id": "57d18053",
   "metadata": {},
   "outputs": [],
   "source": [
    "import os\n",
    "os.chdir(os.getcwd() + '/../../')"
   ]
  },
  {
   "cell_type": "code",
   "execution_count": 2,
   "id": "f5a60fd0",
   "metadata": {},
   "outputs": [],
   "source": [
    "import pandas as pd\n",
    "import numpy as np\n",
    "from scipy import sparse\n",
    "import matplotlib.pyplot as plt\n",
    "\n",
    "from scripts.utils import *\n",
    "from scripts.SpectralClustering import *"
   ]
  },
  {
   "cell_type": "markdown",
   "id": "03996a91",
   "metadata": {},
   "source": [
    "# Q2"
   ]
  },
  {
   "cell_type": "code",
   "execution_count": 3,
   "id": "dd9fbf0e",
   "metadata": {
    "scrolled": true
   },
   "outputs": [
    {
     "name": "stdout",
     "output_type": "stream",
     "text": [
      "graph Laplacian matrix:\n",
      "[[ 2 -1 -1  0  0]\n",
      " [-1  2 -1  0  0]\n",
      " [-1 -1  2  0  0]\n",
      " [ 0  0  0  1 -1]\n",
      " [ 0  0  0 -1  1]]\n",
      "\n",
      "eigenvalues:\n",
      "[ 3.00000000e+00 -4.23796137e-16  3.00000000e+00  2.00000000e+00\n",
      "  0.00000000e+00]\n"
     ]
    }
   ],
   "source": [
    "A = np.array([[0, 1, 1, 0, 0],\n",
    "              [1, 0, 1, 0, 0],\n",
    "              [1, 1, 0, 0, 0],\n",
    "              [0, 0, 0, 0, 1],\n",
    "              [0, 0, 0, 1, 0]])\n",
    "            \n",
    "D = np.diag(A.sum(axis=1).flatten())\n",
    "            \n",
    "# graph Laplacian\n",
    "L = D - A\n",
    "            \n",
    "# decomposition\n",
    "v, x = np.linalg.eig(L)\n",
    "v = v.real\n",
    "x = x.real\n",
    "\n",
    "print('graph Laplacian matrix:')\n",
    "print(L)\n",
    "\n",
    "print('\\neigenvalues:')\n",
    "print(v)"
   ]
  },
  {
   "cell_type": "markdown",
   "id": "9ce72946",
   "metadata": {},
   "source": [
    "0 eigenvalue has 2 multiplicity at index 1 and 4. Therefore number of clusters is 2. This can be seen also from the presence of 2 blocks in connectivity matrix A. And if we arrange the corresponding eigenvectors:"
   ]
  },
  {
   "cell_type": "code",
   "execution_count": 4,
   "id": "817de7b8",
   "metadata": {},
   "outputs": [
    {
     "data": {
      "text/plain": [
       "array([[-0.57735027,  0.        ],\n",
       "       [-0.57735027,  0.        ],\n",
       "       [-0.57735027,  0.        ],\n",
       "       [ 0.        ,  0.70710678],\n",
       "       [ 0.        ,  0.70710678]])"
      ]
     },
     "execution_count": 4,
     "metadata": {},
     "output_type": "execute_result"
    }
   ],
   "source": [
    "x[:, [1, 4]]    # eigenvectors associated with 0 eigenvalues"
   ]
  },
  {
   "cell_type": "markdown",
   "id": "7939d8ab",
   "metadata": {},
   "source": [
    "We can see datapoints 0, 1, 2 (corresponding to node 1, 2, 3 in the question) belong to one cluster and the rest, another cluster."
   ]
  },
  {
   "cell_type": "markdown",
   "id": "ff267ae0",
   "metadata": {},
   "source": [
    "# Football team clustering based on league play-graph"
   ]
  },
  {
   "cell_type": "markdown",
   "id": "5d32a3f9",
   "metadata": {},
   "source": [
    "This notebook runs spectral clustering on football league play-graph.\n",
    "Clustering results with different k are saved in **'/results/football_team_clustering/'** folder"
   ]
  },
  {
   "cell_type": "code",
   "execution_count": 5,
   "id": "eafe2255",
   "metadata": {},
   "outputs": [
    {
     "data": {
      "text/plain": [
       "array([[0, 1],\n",
       "       [2, 3],\n",
       "       [4, 5],\n",
       "       [6, 7],\n",
       "       [8, 9]])"
      ]
     },
     "execution_count": 5,
     "metadata": {},
     "output_type": "execute_result"
    }
   ],
   "source": [
    "a = import_graph('data/football/play_graph.txt')\n",
    "a = a-1\n",
    "a[:5]"
   ]
  },
  {
   "cell_type": "markdown",
   "id": "06565a1f",
   "metadata": {},
   "source": [
    "play-graph a is a 2D array where each row indicates team_id in column 1 played team_id in column 2."
   ]
  },
  {
   "cell_type": "code",
   "execution_count": 6,
   "id": "40a6b497",
   "metadata": {},
   "outputs": [],
   "source": [
    "# initialize SpectralClust class\n",
    "spectral = SpectralClust(a)"
   ]
  },
  {
   "cell_type": "markdown",
   "id": "4525bee1",
   "metadata": {},
   "source": [
    "## 1. Eigenvalues plot"
   ]
  },
  {
   "cell_type": "code",
   "execution_count": 7,
   "id": "63174319",
   "metadata": {
    "scrolled": false
   },
   "outputs": [
    {
     "data": {
      "text/plain": [
       "<matplotlib.collections.LineCollection at 0x1d94a944790>"
      ]
     },
     "execution_count": 7,
     "metadata": {},
     "output_type": "execute_result"
    },
    {
     "data": {
      "image/png": "[encoded data removed]",
      "text/plain": [
       "<Figure size 1440x720 with 1 Axes>"
      ]
     },
     "metadata": {
      "needs_background": "light"
     },
     "output_type": "display_data"
    }
   ],
   "source": [
    "spectral.construct_similarity_matrix(plot_eigenvalues=True, figsize=(20, 10))\n",
    "plt.vlines(21.5, ymin=-0.6, ymax=1, colors='black', linestyles='dotted', alpha=0.5)"
   ]
  },
  {
   "cell_type": "markdown",
   "id": "1bed1e88",
   "metadata": {},
   "source": [
    "Eigenvalues plot shows sharp cutoff at 22 values, a strong evidence of the presence of 22 clusters in the dataset. The plot visualizes connectivity between clusters and in general first k eigenvalues are selected that maximizes the eigengap. The intuition is, well-defined eigengap corresponds to well-defined clusters (with stark difference between intercluster connectivity and intracluster connectivity). Although some clustering problems will have poorly-defined similarity within clusters which will result in relatively smooth eigenvalues plot and the need to use more sophisticated method, in this football team clustering case, number of cluster can be derived using eigengap method."
   ]
  },
  {
   "cell_type": "markdown",
   "id": "8c2a6962",
   "metadata": {},
   "source": [
    "## 2. Different values of k"
   ]
  },
  {
   "cell_type": "markdown",
   "id": "7232fedf",
   "metadata": {},
   "source": [
    "### 2.1. Asigned clusters for each node"
   ]
  },
  {
   "cell_type": "markdown",
   "id": "31d35c8d",
   "metadata": {},
   "source": [
    "Assigned clusters for different value of k can be found in **'/results/football_team_clustering/'** folder with their corresponding filenames."
   ]
  },
  {
   "cell_type": "code",
   "execution_count": 8,
   "id": "acf86bfa",
   "metadata": {
    "scrolled": true
   },
   "outputs": [
    {
     "data": {
      "text/html": [
       "<div>\n",
       "<style scoped>\n",
       "    .dataframe tbody tr th:only-of-type {\n",
       "        vertical-align: middle;\n",
       "    }\n",
       "\n",
       "    .dataframe tbody tr th {\n",
       "        vertical-align: top;\n",
       "    }\n",
       "\n",
       "    .dataframe thead th {\n",
       "        text-align: right;\n",
       "    }\n",
       "</style>\n",
       "<table border=\"1\" class=\"dataframe\">\n",
       "  <thead>\n",
       "    <tr style=\"text-align: right;\">\n",
       "      <th></th>\n",
       "      <th>clusters</th>\n",
       "      <th>centroids</th>\n",
       "      <th>closest_centroids</th>\n",
       "      <th>loss</th>\n",
       "      <th>initialization_time</th>\n",
       "      <th>optimization_time</th>\n",
       "      <th>iterations</th>\n",
       "      <th>k</th>\n",
       "    </tr>\n",
       "  </thead>\n",
       "  <tbody>\n",
       "    <tr>\n",
       "      <th>0</th>\n",
       "      <td>[2, 2, 2, 4, 4, 4, 3, 4, 4, 4, 2, 2, 0, 0, 4, ...</td>\n",
       "      <td>[[-0.06046351655345556, 0.11815336708265124, 0...</td>\n",
       "      <td>[[-0.05670445499375304, -0.0518598687808655, 0...</td>\n",
       "      <td>1.240332</td>\n",
       "      <td>0.015625</td>\n",
       "      <td>0.000000</td>\n",
       "      <td>6</td>\n",
       "      <td>5</td>\n",
       "    </tr>\n",
       "    <tr>\n",
       "      <th>1</th>\n",
       "      <td>[1, 5, 1, 6, 6, 6, 4, 6, 4, 6, 4, 1, 3, 3, 6, ...</td>\n",
       "      <td>[[-0.0390576621436381, 0.06495519614449481, -0...</td>\n",
       "      <td>[[-0.05909347279734633, -0.05544581126899997, ...</td>\n",
       "      <td>2.055875</td>\n",
       "      <td>0.015625</td>\n",
       "      <td>0.000000</td>\n",
       "      <td>16</td>\n",
       "      <td>7</td>\n",
       "    </tr>\n",
       "    <tr>\n",
       "      <th>2</th>\n",
       "      <td>[0, 7, 0, 0, 0, 0, 9, 4, 5, 4, 9, 0, 1, 6, 4, ...</td>\n",
       "      <td>[[-0.05527812331812012, -0.03693667270532918, ...</td>\n",
       "      <td>[[-0.05527812331812012, -0.03693667270532918, ...</td>\n",
       "      <td>2.724288</td>\n",
       "      <td>0.031250</td>\n",
       "      <td>0.015625</td>\n",
       "      <td>16</td>\n",
       "      <td>10</td>\n",
       "    </tr>\n",
       "    <tr>\n",
       "      <th>3</th>\n",
       "      <td>[11, 3, 11, 2, 12, 7, 4, 16, 5, 6, 18, 11, 17,...</td>\n",
       "      <td>[[-0.06264290399188291, -0.037091650204747424,...</td>\n",
       "      <td>[[-0.0619155704642075, -0.057839666132939026, ...</td>\n",
       "      <td>3.889151</td>\n",
       "      <td>0.156250</td>\n",
       "      <td>0.015625</td>\n",
       "      <td>8</td>\n",
       "      <td>22</td>\n",
       "    </tr>\n",
       "  </tbody>\n",
       "</table>\n",
       "</div>"
      ],
      "text/plain": [
       "                                            clusters  \\\n",
       "0  [2, 2, 2, 4, 4, 4, 3, 4, 4, 4, 2, 2, 0, 0, 4, ...   \n",
       "1  [1, 5, 1, 6, 6, 6, 4, 6, 4, 6, 4, 1, 3, 3, 6, ...   \n",
       "2  [0, 7, 0, 0, 0, 0, 9, 4, 5, 4, 9, 0, 1, 6, 4, ...   \n",
       "3  [11, 3, 11, 2, 12, 7, 4, 16, 5, 6, 18, 11, 17,...   \n",
       "\n",
       "                                           centroids  \\\n",
       "0  [[-0.06046351655345556, 0.11815336708265124, 0...   \n",
       "1  [[-0.0390576621436381, 0.06495519614449481, -0...   \n",
       "2  [[-0.05527812331812012, -0.03693667270532918, ...   \n",
       "3  [[-0.06264290399188291, -0.037091650204747424,...   \n",
       "\n",
       "                                   closest_centroids      loss  \\\n",
       "0  [[-0.05670445499375304, -0.0518598687808655, 0...  1.240332   \n",
       "1  [[-0.05909347279734633, -0.05544581126899997, ...  2.055875   \n",
       "2  [[-0.05527812331812012, -0.03693667270532918, ...  2.724288   \n",
       "3  [[-0.0619155704642075, -0.057839666132939026, ...  3.889151   \n",
       "\n",
       "   initialization_time  optimization_time  iterations   k  \n",
       "0             0.015625           0.000000           6   5  \n",
       "1             0.015625           0.000000          16   7  \n",
       "2             0.031250           0.015625          16  10  \n",
       "3             0.156250           0.015625           8  22  "
      ]
     },
     "execution_count": 8,
     "metadata": {},
     "output_type": "execute_result"
    }
   ],
   "source": [
    "K = [5, 7, 10, 22]\n",
    "n_repeats = 10\n",
    "rng = np.random.default_rng(0)\n",
    "best_results_list = []\n",
    "for k in K:\n",
    "    best_results_list.append(spectral.run_clustering(k, n_repeats, rng=rng, verbose=False)['best_result'])\n",
    "    \n",
    "df_best_results = pd.DataFrame(best_results_list)\n",
    "df_best_results['k'] = K\n",
    "\n",
    "df_best_results.head()"
   ]
  },
  {
   "cell_type": "code",
   "execution_count": 9,
   "id": "1a22164a",
   "metadata": {},
   "outputs": [],
   "source": [
    "# output files\n",
    "idx2name = read_team_name('data/football/inverse_teams.txt')\n",
    "\n",
    "dirpath = 'results/football_team_clustering/'\n",
    "\n",
    "for k in K:\n",
    "    output_file(a, \n",
    "                idx2name,\n",
    "                df_best_results.loc[df_best_results['k'] == k, 'clusters'].iloc[0],\n",
    "                dirpath+'nodes_k'+str(k)+'.csv',\n",
    "                dirpath+'edges_k'+str(k)+'.csv')"
   ]
  },
  {
   "cell_type": "markdown",
   "id": "cc8d12ce",
   "metadata": {},
   "source": [
    "### 2.2. Smallest and largest clusters"
   ]
  },
  {
   "cell_type": "code",
   "execution_count": 10,
   "id": "dd7cf871",
   "metadata": {},
   "outputs": [
    {
     "data": {
      "text/html": [
       "<div>\n",
       "<style scoped>\n",
       "    .dataframe tbody tr th:only-of-type {\n",
       "        vertical-align: middle;\n",
       "    }\n",
       "\n",
       "    .dataframe tbody tr th {\n",
       "        vertical-align: top;\n",
       "    }\n",
       "\n",
       "    .dataframe thead th {\n",
       "        text-align: right;\n",
       "    }\n",
       "</style>\n",
       "<table border=\"1\" class=\"dataframe\">\n",
       "  <thead>\n",
       "    <tr style=\"text-align: right;\">\n",
       "      <th></th>\n",
       "      <th>k</th>\n",
       "      <th>largest_cluster_size</th>\n",
       "      <th>smallest_cluster_size</th>\n",
       "    </tr>\n",
       "  </thead>\n",
       "  <tbody>\n",
       "    <tr>\n",
       "      <th>0</th>\n",
       "      <td>5</td>\n",
       "      <td>168</td>\n",
       "      <td>10</td>\n",
       "    </tr>\n",
       "    <tr>\n",
       "      <th>1</th>\n",
       "      <td>7</td>\n",
       "      <td>110</td>\n",
       "      <td>10</td>\n",
       "    </tr>\n",
       "    <tr>\n",
       "      <th>2</th>\n",
       "      <td>10</td>\n",
       "      <td>77</td>\n",
       "      <td>10</td>\n",
       "    </tr>\n",
       "    <tr>\n",
       "      <th>3</th>\n",
       "      <td>22</td>\n",
       "      <td>51</td>\n",
       "      <td>7</td>\n",
       "    </tr>\n",
       "  </tbody>\n",
       "</table>\n",
       "</div>"
      ],
      "text/plain": [
       "    k  largest_cluster_size  smallest_cluster_size\n",
       "0   5                   168                     10\n",
       "1   7                   110                     10\n",
       "2  10                    77                     10\n",
       "3  22                    51                      7"
      ]
     },
     "execution_count": 10,
     "metadata": {},
     "output_type": "execute_result"
    }
   ],
   "source": [
    "def highest_count(arr):\n",
    "    count = np.bincount(arr)\n",
    "    return np.max(count)\n",
    "\n",
    "def lowest_count(arr):\n",
    "    count = np.bincount(arr)\n",
    "    return np.min(count)\n",
    "\n",
    "df_best_results['largest_cluster_size'] = df_best_results['clusters'].apply(highest_count)\n",
    "df_best_results['smallest_cluster_size'] = df_best_results['clusters'].apply(lowest_count)\n",
    "df_best_results[['k', 'largest_cluster_size', 'smallest_cluster_size']]"
   ]
  },
  {
   "cell_type": "markdown",
   "id": "5a2c6946",
   "metadata": {},
   "source": [
    "## 3. Consistency between repeats"
   ]
  },
  {
   "cell_type": "code",
   "execution_count": 11,
   "id": "02d1b242",
   "metadata": {},
   "outputs": [],
   "source": [
    "df_k10 = pd.DataFrame({'label': idx2name})\n",
    "for i in range(n_repeats):\n",
    "    results = spectral.run_clustering_once(10, rng=np.random.default_rng(i))\n",
    "    df_k10[f\"iteration_{i+1}\"] = results['clusters']"
   ]
  },
  {
   "cell_type": "markdown",
   "id": "59882e85",
   "metadata": {},
   "source": [
    "Georgia Tech, Georgia State and Georgia teams are used to evaluate consistency across different iterations:"
   ]
  },
  {
   "cell_type": "code",
   "execution_count": 12,
   "id": "c04b6812",
   "metadata": {},
   "outputs": [
    {
     "data": {
      "text/html": [
       "<div>\n",
       "<style scoped>\n",
       "    .dataframe tbody tr th:only-of-type {\n",
       "        vertical-align: middle;\n",
       "    }\n",
       "\n",
       "    .dataframe tbody tr th {\n",
       "        vertical-align: top;\n",
       "    }\n",
       "\n",
       "    .dataframe thead th {\n",
       "        text-align: right;\n",
       "    }\n",
       "</style>\n",
       "<table border=\"1\" class=\"dataframe\">\n",
       "  <thead>\n",
       "    <tr style=\"text-align: right;\">\n",
       "      <th></th>\n",
       "      <th>label</th>\n",
       "      <th>iteration_1</th>\n",
       "      <th>iteration_2</th>\n",
       "      <th>iteration_3</th>\n",
       "      <th>iteration_4</th>\n",
       "      <th>iteration_5</th>\n",
       "      <th>iteration_6</th>\n",
       "      <th>iteration_7</th>\n",
       "      <th>iteration_8</th>\n",
       "      <th>iteration_9</th>\n",
       "      <th>iteration_10</th>\n",
       "    </tr>\n",
       "  </thead>\n",
       "  <tbody>\n",
       "    <tr>\n",
       "      <th>3</th>\n",
       "      <td>Georgia State</td>\n",
       "      <td>5</td>\n",
       "      <td>2</td>\n",
       "      <td>8</td>\n",
       "      <td>2</td>\n",
       "      <td>3</td>\n",
       "      <td>3</td>\n",
       "      <td>4</td>\n",
       "      <td>7</td>\n",
       "      <td>9</td>\n",
       "      <td>0</td>\n",
       "    </tr>\n",
       "    <tr>\n",
       "      <th>95</th>\n",
       "      <td>Georgia Tech</td>\n",
       "      <td>5</td>\n",
       "      <td>2</td>\n",
       "      <td>8</td>\n",
       "      <td>2</td>\n",
       "      <td>3</td>\n",
       "      <td>3</td>\n",
       "      <td>4</td>\n",
       "      <td>7</td>\n",
       "      <td>9</td>\n",
       "      <td>0</td>\n",
       "    </tr>\n",
       "    <tr>\n",
       "      <th>143</th>\n",
       "      <td>Georgia</td>\n",
       "      <td>5</td>\n",
       "      <td>2</td>\n",
       "      <td>8</td>\n",
       "      <td>2</td>\n",
       "      <td>3</td>\n",
       "      <td>3</td>\n",
       "      <td>4</td>\n",
       "      <td>7</td>\n",
       "      <td>9</td>\n",
       "      <td>0</td>\n",
       "    </tr>\n",
       "  </tbody>\n",
       "</table>\n",
       "</div>"
      ],
      "text/plain": [
       "             label  iteration_1  iteration_2  iteration_3  iteration_4  \\\n",
       "3    Georgia State            5            2            8            2   \n",
       "95    Georgia Tech            5            2            8            2   \n",
       "143        Georgia            5            2            8            2   \n",
       "\n",
       "     iteration_5  iteration_6  iteration_7  iteration_8  iteration_9  \\\n",
       "3              3            3            4            7            9   \n",
       "95             3            3            4            7            9   \n",
       "143            3            3            4            7            9   \n",
       "\n",
       "     iteration_10  \n",
       "3               0  \n",
       "95              0  \n",
       "143             0  "
      ]
     },
     "execution_count": 12,
     "metadata": {},
     "output_type": "execute_result"
    }
   ],
   "source": [
    "df_k10[df_k10['label'].isin(['Georgia Tech', 'Georgia State', 'Georgia'])]"
   ]
  },
  {
   "cell_type": "markdown",
   "id": "516925cc",
   "metadata": {},
   "source": [
    "The three teams are clustered in the same team 10 out of 10 iterations. Different cluster assignments can happen when the algorithm is initialized differenty (randomly)."
   ]
  },
  {
   "cell_type": "markdown",
   "id": "0c1cabf2",
   "metadata": {},
   "source": [
    "## Additional remarks"
   ]
  },
  {
   "cell_type": "markdown",
   "id": "1d7e85a7",
   "metadata": {},
   "source": [
    "In this analysis, kmeans++ is used as a default method of initialization of centroids proposed in 2007 by David Arthur and Sergei Vassilvitskii (https://en.wikipedia.org/wiki/K-means%2B%2B). \n",
    "\n",
    "Random_partition method of initialization (where each datapoints are randomly assigned one of the k clusters whose centroids act as the initial centroids) is considered a poor initialization method because most of the time, initial centroids are located in the interior of dataspace. From the 10 iterations spectral clustering with the same seeds, two put Georgia Tech in different cluster from Georgia State and Georgia. This can of course be due to randomness."
   ]
  },
  {
   "cell_type": "code",
   "execution_count": 13,
   "id": "9736a8f8",
   "metadata": {},
   "outputs": [
    {
     "data": {
      "text/html": [
       "<div>\n",
       "<style scoped>\n",
       "    .dataframe tbody tr th:only-of-type {\n",
       "        vertical-align: middle;\n",
       "    }\n",
       "\n",
       "    .dataframe tbody tr th {\n",
       "        vertical-align: top;\n",
       "    }\n",
       "\n",
       "    .dataframe thead th {\n",
       "        text-align: right;\n",
       "    }\n",
       "</style>\n",
       "<table border=\"1\" class=\"dataframe\">\n",
       "  <thead>\n",
       "    <tr style=\"text-align: right;\">\n",
       "      <th></th>\n",
       "      <th>label</th>\n",
       "      <th>iteration_1</th>\n",
       "      <th>iteration_2</th>\n",
       "      <th>iteration_3</th>\n",
       "      <th>iteration_4</th>\n",
       "      <th>iteration_5</th>\n",
       "      <th>iteration_6</th>\n",
       "      <th>iteration_7</th>\n",
       "      <th>iteration_8</th>\n",
       "      <th>iteration_9</th>\n",
       "      <th>iteration_10</th>\n",
       "    </tr>\n",
       "  </thead>\n",
       "  <tbody>\n",
       "    <tr>\n",
       "      <th>3</th>\n",
       "      <td>Georgia State</td>\n",
       "      <td>7</td>\n",
       "      <td>0</td>\n",
       "      <td>3</td>\n",
       "      <td>8</td>\n",
       "      <td>9</td>\n",
       "      <td>7</td>\n",
       "      <td>3</td>\n",
       "      <td>2</td>\n",
       "      <td>5</td>\n",
       "      <td>1</td>\n",
       "    </tr>\n",
       "    <tr>\n",
       "      <th>95</th>\n",
       "      <td>Georgia Tech</td>\n",
       "      <td>5</td>\n",
       "      <td>0</td>\n",
       "      <td>3</td>\n",
       "      <td>8</td>\n",
       "      <td>9</td>\n",
       "      <td>2</td>\n",
       "      <td>3</td>\n",
       "      <td>2</td>\n",
       "      <td>5</td>\n",
       "      <td>1</td>\n",
       "    </tr>\n",
       "    <tr>\n",
       "      <th>143</th>\n",
       "      <td>Georgia</td>\n",
       "      <td>7</td>\n",
       "      <td>0</td>\n",
       "      <td>3</td>\n",
       "      <td>8</td>\n",
       "      <td>9</td>\n",
       "      <td>7</td>\n",
       "      <td>3</td>\n",
       "      <td>2</td>\n",
       "      <td>5</td>\n",
       "      <td>1</td>\n",
       "    </tr>\n",
       "  </tbody>\n",
       "</table>\n",
       "</div>"
      ],
      "text/plain": [
       "             label  iteration_1  iteration_2  iteration_3  iteration_4  \\\n",
       "3    Georgia State            7            0            3            8   \n",
       "95    Georgia Tech            5            0            3            8   \n",
       "143        Georgia            7            0            3            8   \n",
       "\n",
       "     iteration_5  iteration_6  iteration_7  iteration_8  iteration_9  \\\n",
       "3              9            7            3            2            5   \n",
       "95             9            2            3            2            5   \n",
       "143            9            7            3            2            5   \n",
       "\n",
       "     iteration_10  \n",
       "3               1  \n",
       "95              1  \n",
       "143             1  "
      ]
     },
     "execution_count": 13,
     "metadata": {},
     "output_type": "execute_result"
    }
   ],
   "source": [
    "df_k10 = pd.DataFrame({'label': idx2name})\n",
    "for i in range(n_repeats):\n",
    "    results = spectral.run_clustering_once(10, init_method='random_partition', rng=np.random.default_rng(i))\n",
    "    df_k10[f\"iteration_{i+1}\"] = results['clusters']\n",
    "df_k10[df_k10['label'].isin(['Georgia Tech', 'Georgia State', 'Georgia'])]"
   ]
  },
  {
   "cell_type": "markdown",
   "id": "223fc9f5",
   "metadata": {},
   "source": [
    "and just for completeness, the other two initialization methods provided in the script are explored"
   ]
  },
  {
   "cell_type": "code",
   "execution_count": 14,
   "id": "1d8cf1f0",
   "metadata": {},
   "outputs": [
    {
     "data": {
      "text/html": [
       "<div>\n",
       "<style scoped>\n",
       "    .dataframe tbody tr th:only-of-type {\n",
       "        vertical-align: middle;\n",
       "    }\n",
       "\n",
       "    .dataframe tbody tr th {\n",
       "        vertical-align: top;\n",
       "    }\n",
       "\n",
       "    .dataframe thead th {\n",
       "        text-align: right;\n",
       "    }\n",
       "</style>\n",
       "<table border=\"1\" class=\"dataframe\">\n",
       "  <thead>\n",
       "    <tr style=\"text-align: right;\">\n",
       "      <th></th>\n",
       "      <th>label</th>\n",
       "      <th>iteration_1</th>\n",
       "      <th>iteration_2</th>\n",
       "      <th>iteration_3</th>\n",
       "      <th>iteration_4</th>\n",
       "      <th>iteration_5</th>\n",
       "      <th>iteration_6</th>\n",
       "      <th>iteration_7</th>\n",
       "      <th>iteration_8</th>\n",
       "      <th>iteration_9</th>\n",
       "      <th>iteration_10</th>\n",
       "    </tr>\n",
       "  </thead>\n",
       "  <tbody>\n",
       "    <tr>\n",
       "      <th>3</th>\n",
       "      <td>Georgia State</td>\n",
       "      <td>7</td>\n",
       "      <td>0</td>\n",
       "      <td>0</td>\n",
       "      <td>2</td>\n",
       "      <td>8</td>\n",
       "      <td>9</td>\n",
       "      <td>6</td>\n",
       "      <td>9</td>\n",
       "      <td>8</td>\n",
       "      <td>6</td>\n",
       "    </tr>\n",
       "    <tr>\n",
       "      <th>95</th>\n",
       "      <td>Georgia Tech</td>\n",
       "      <td>7</td>\n",
       "      <td>0</td>\n",
       "      <td>0</td>\n",
       "      <td>2</td>\n",
       "      <td>8</td>\n",
       "      <td>9</td>\n",
       "      <td>3</td>\n",
       "      <td>9</td>\n",
       "      <td>8</td>\n",
       "      <td>6</td>\n",
       "    </tr>\n",
       "    <tr>\n",
       "      <th>143</th>\n",
       "      <td>Georgia</td>\n",
       "      <td>7</td>\n",
       "      <td>0</td>\n",
       "      <td>0</td>\n",
       "      <td>2</td>\n",
       "      <td>8</td>\n",
       "      <td>9</td>\n",
       "      <td>6</td>\n",
       "      <td>9</td>\n",
       "      <td>8</td>\n",
       "      <td>6</td>\n",
       "    </tr>\n",
       "  </tbody>\n",
       "</table>\n",
       "</div>"
      ],
      "text/plain": [
       "             label  iteration_1  iteration_2  iteration_3  iteration_4  \\\n",
       "3    Georgia State            7            0            0            2   \n",
       "95    Georgia Tech            7            0            0            2   \n",
       "143        Georgia            7            0            0            2   \n",
       "\n",
       "     iteration_5  iteration_6  iteration_7  iteration_8  iteration_9  \\\n",
       "3              8            9            6            9            8   \n",
       "95             8            9            3            9            8   \n",
       "143            8            9            6            9            8   \n",
       "\n",
       "     iteration_10  \n",
       "3               6  \n",
       "95              6  \n",
       "143             6  "
      ]
     },
     "execution_count": 14,
     "metadata": {},
     "output_type": "execute_result"
    }
   ],
   "source": [
    "df_k10 = pd.DataFrame({'label': idx2name})\n",
    "for i in range(n_repeats):\n",
    "    results = spectral.run_clustering_once(10, init_method='random_data', rng=np.random.default_rng(i))\n",
    "    df_k10[f\"iteration_{i+1}\"] = results['clusters']\n",
    "df_k10[df_k10['label'].isin(['Georgia Tech', 'Georgia State', 'Georgia'])]"
   ]
  },
  {
   "cell_type": "code",
   "execution_count": 15,
   "id": "4f13c2e8",
   "metadata": {},
   "outputs": [
    {
     "data": {
      "text/html": [
       "<div>\n",
       "<style scoped>\n",
       "    .dataframe tbody tr th:only-of-type {\n",
       "        vertical-align: middle;\n",
       "    }\n",
       "\n",
       "    .dataframe tbody tr th {\n",
       "        vertical-align: top;\n",
       "    }\n",
       "\n",
       "    .dataframe thead th {\n",
       "        text-align: right;\n",
       "    }\n",
       "</style>\n",
       "<table border=\"1\" class=\"dataframe\">\n",
       "  <thead>\n",
       "    <tr style=\"text-align: right;\">\n",
       "      <th></th>\n",
       "      <th>label</th>\n",
       "      <th>iteration_1</th>\n",
       "      <th>iteration_2</th>\n",
       "      <th>iteration_3</th>\n",
       "      <th>iteration_4</th>\n",
       "      <th>iteration_5</th>\n",
       "      <th>iteration_6</th>\n",
       "      <th>iteration_7</th>\n",
       "      <th>iteration_8</th>\n",
       "      <th>iteration_9</th>\n",
       "      <th>iteration_10</th>\n",
       "    </tr>\n",
       "  </thead>\n",
       "  <tbody>\n",
       "    <tr>\n",
       "      <th>3</th>\n",
       "      <td>Georgia State</td>\n",
       "      <td>6</td>\n",
       "      <td>3</td>\n",
       "      <td>2</td>\n",
       "      <td>8</td>\n",
       "      <td>3</td>\n",
       "      <td>1</td>\n",
       "      <td>7</td>\n",
       "      <td>9</td>\n",
       "      <td>5</td>\n",
       "      <td>9</td>\n",
       "    </tr>\n",
       "    <tr>\n",
       "      <th>95</th>\n",
       "      <td>Georgia Tech</td>\n",
       "      <td>6</td>\n",
       "      <td>3</td>\n",
       "      <td>2</td>\n",
       "      <td>8</td>\n",
       "      <td>3</td>\n",
       "      <td>1</td>\n",
       "      <td>7</td>\n",
       "      <td>9</td>\n",
       "      <td>5</td>\n",
       "      <td>9</td>\n",
       "    </tr>\n",
       "    <tr>\n",
       "      <th>143</th>\n",
       "      <td>Georgia</td>\n",
       "      <td>6</td>\n",
       "      <td>3</td>\n",
       "      <td>2</td>\n",
       "      <td>8</td>\n",
       "      <td>3</td>\n",
       "      <td>1</td>\n",
       "      <td>7</td>\n",
       "      <td>9</td>\n",
       "      <td>5</td>\n",
       "      <td>9</td>\n",
       "    </tr>\n",
       "  </tbody>\n",
       "</table>\n",
       "</div>"
      ],
      "text/plain": [
       "             label  iteration_1  iteration_2  iteration_3  iteration_4  \\\n",
       "3    Georgia State            6            3            2            8   \n",
       "95    Georgia Tech            6            3            2            8   \n",
       "143        Georgia            6            3            2            8   \n",
       "\n",
       "     iteration_5  iteration_6  iteration_7  iteration_8  iteration_9  \\\n",
       "3              3            1            7            9            5   \n",
       "95             3            1            7            9            5   \n",
       "143            3            1            7            9            5   \n",
       "\n",
       "     iteration_10  \n",
       "3               9  \n",
       "95              9  \n",
       "143             9  "
      ]
     },
     "execution_count": 15,
     "metadata": {},
     "output_type": "execute_result"
    }
   ],
   "source": [
    "df_k10 = pd.DataFrame({'label': idx2name})\n",
    "for i in range(n_repeats):\n",
    "    results = spectral.run_clustering_once(10, init_method='random_uniform', rng=np.random.default_rng(i))\n",
    "    df_k10[f\"iteration_{i+1}\"] = results['clusters']\n",
    "df_k10[df_k10['label'].isin(['Georgia Tech', 'Georgia State', 'Georgia'])]"
   ]
  },
  {
   "cell_type": "markdown",
   "id": "5b75ae0c",
   "metadata": {},
   "source": [
    "In general, the three initialization methods with k=10 yield expected results that the three mentioned teams are in the same cluster."
   ]
  },
  {
   "cell_type": "code",
   "execution_count": null,
   "id": "c9e9a96f",
   "metadata": {},
   "outputs": [],
   "source": []
  }
 ],
 "metadata": {
  "kernelspec": {
   "display_name": "Python (Image_compression)",
   "language": "python",
   "name": "image_compression"
  },
  "language_info": {
   "codemirror_mode": {
    "name": "ipython",
    "version": 3
   },
   "file_extension": ".py",
   "mimetype": "text/x-python",
   "name": "python",
   "nbconvert_exporter": "python",
   "pygments_lexer": "ipython3",
   "version": "3.9.5"
  }
 },
 "nbformat": 4,
 "nbformat_minor": 5
}
