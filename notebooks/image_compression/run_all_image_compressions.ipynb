{
 "cells": [
  {
   "cell_type": "code",
   "execution_count": null,
   "id": "acd636a0",
   "metadata": {},
   "outputs": [],
   "source": [
    "import os\n",
    "os.chdir(os.getcwd() + '/../../')"
   ]
  },
  {
   "cell_type": "code",
   "execution_count": null,
   "id": "fb23f942",
   "metadata": {},
   "outputs": [],
   "source": [
    "from tqdm.auto import tqdm\n",
    "from scripts.ImageCompression import *"
   ]
  },
  {
   "cell_type": "code",
   "execution_count": null,
   "id": "e6bbd288",
   "metadata": {},
   "outputs": [],
   "source": [
    "labels = ['football', 'gatech', 'interior']    # labels for compressed pictures and result metrics\n",
    "filenames = ['football.bmp', 'GeorgiaTech.bmp', 'interior.jpg']\n",
    "init_methods = ['random_data', 'random_uniform', 'plusplus', 'random_partition', 'inverted_plusplus']\n",
    "dist_types = ['l1', 'l2']\n",
    "K = [2, 4, 8, 16]\n",
    "\n",
    "rng = np.random.default_rng(0)\n",
    "n_repeats = 5\n",
    "pic_loc = 'data/pictures/'\n",
    "save_loc = 'data/pictures/compressed/'\n",
    "result_loc = 'results/image_compression/'"
   ]
  },
  {
   "cell_type": "code",
   "execution_count": null,
   "id": "5689786a",
   "metadata": {
    "scrolled": false
   },
   "outputs": [],
   "source": [
    "for i, label in enumerate(labels):\n",
    "    filename = filenames[i]\n",
    "    for init_method in init_methods:\n",
    "        for dist_type in dist_types:\n",
    "            print(f\"\\ncomputing {label}_{init_method}_{dist_type}_\", end='')\n",
    "            results_list = []\n",
    "            for k in K:\n",
    "                print(f\"k{k}...\", end='')\n",
    "                results = compress_image(pic_loc + filename,\n",
    "                                         k,\n",
    "                                         n_repeats,\n",
    "                                         dist_type=dist_type,\n",
    "                                         init_method=init_method,\n",
    "                                         rng=rng,\n",
    "                                         plot=False,\n",
    "                                         save=True,\n",
    "                                         save_loc='_'.join([save_loc+label, init_method, dist_type, 'k'+str(k)]) + '.jpg',\n",
    "                                         verbose=False)\n",
    "                results_list.append(results['best_result'])\n",
    "            df_results = pd.DataFrame(results_list)\n",
    "            df_results['k'] = K\n",
    "            df_results.to_csv('_'.join([result_loc+label, init_method, dist_type]) + '.csv')"
   ]
  }
 ],
 "metadata": {
  "kernelspec": {
   "display_name": "Python (Image_compression)",
   "language": "python",
   "name": "image_compression"
  },
  "language_info": {
   "codemirror_mode": {
    "name": "ipython",
    "version": 3
   },
   "file_extension": ".py",
   "mimetype": "text/x-python",
   "name": "python",
   "nbconvert_exporter": "python",
   "pygments_lexer": "ipython3",
   "version": "3.9.5"
  }
 },
 "nbformat": 4,
 "nbformat_minor": 5
}
